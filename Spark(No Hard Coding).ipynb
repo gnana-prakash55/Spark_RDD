{
 "cells": [
  {
   "cell_type": "code",
   "execution_count": 45,
   "metadata": {},
   "outputs": [],
   "source": [
    "from pyspark.sql.types import StructType,StringType,StructField,IntegerType"
   ]
  },
  {
   "cell_type": "code",
   "execution_count": 3,
   "metadata": {},
   "outputs": [],
   "source": [
    "orders_schema= StructType([\n",
    "    StructField(\"id\",StringType()),\n",
    "    StructField(\"created_at\",StringType()),\n",
    "    StructField(\"discount\",StringType()),\n",
    "    StructField(\"product_id\",StringType()),\n",
    "    StructField(\"quantity\",StringType()),\n",
    "    StructField(\"subtotal\",StringType()),\n",
    "    StructField(\"tax\",StringType()),\n",
    "    StructField(\"total\",StringType()),\n",
    "    StructField(\"user_id\",StringType())\n",
    "])"
   ]
  },
  {
   "cell_type": "code",
   "execution_count": 11,
   "metadata": {},
   "outputs": [],
   "source": [
    "orders_df=spark.read \\\n",
    ".schema(orders_schema) \\\n",
    ".option(\"delimiter\",\",\") \\\n",
    ".option(\"header\",True) \\\n",
    ".csv(\"file:///home/sanjay/SparkTutorial/data/csv/orders.csv\")"
   ]
  },
  {
   "cell_type": "code",
   "execution_count": 12,
   "metadata": {},
   "outputs": [
    {
     "name": "stdout",
     "output_type": "stream",
     "text": [
      "+---+-----------------------------+-----------------+----------+--------+------------------+----+------------------+-------+\n",
      "|id |created_at                   |discount         |product_id|quantity|subtotal          |tax |total             |user_id|\n",
      "+---+-----------------------------+-----------------+----------+--------+------------------+----+------------------+-------+\n",
      "|1  |2019-02-11T21:40:27.892+05:30|null             |14        |2       |37.648145389078365|2.07|39.718145389078366|1      |\n",
      "|2  |2018-05-15T08:04:04.580+05:30|null             |123       |3       |110.93145648834248|6.1 |117.0376564084763 |1      |\n",
      "|3  |2019-12-06T22:22:48.544+05:30|6.416679208849759|105       |2       |52.723521442619514|2.9 |55.62208681964182 |1      |\n",
      "|4  |2019-08-22T16:30:42.392+05:30|null             |94        |6       |109.21864156655383|6.01|115.2207354961295 |1      |\n",
      "|5  |2018-10-10T03:34:47.309+05:30|null             |132       |5       |127.88197029833711|7.03|134.94192935296473|1      |\n",
      "|6  |2019-11-06T16:38:50.134+05:30|null             |60        |3       |29.80214751859149 |1.64|31.441679133237017|1      |\n",
      "|7  |2018-09-11T11:22:26.521+05:30|null             |55        |5       |95.77128575934437 |5.27|101.06105102213039|1      |\n",
      "|8  |2019-06-17T02:37:41.693+05:30|8.653952930206964|65        |7       |68.22769726470014 |3.75|71.9646003804807  |1      |\n",
      "|9  |2017-05-03T16:00:54.923+05:30|3.594742155259162|184       |3       |77.3982748679465  |4.26|81.6742695904106  |1      |\n",
      "|10 |2020-01-17T01:44:37.233+05:30|null             |6         |2       |97.43621265344382 |5.36|102.77055805103969|1      |\n",
      "+---+-----------------------------+-----------------+----------+--------+------------------+----+------------------+-------+\n",
      "only showing top 10 rows\n",
      "\n"
     ]
    }
   ],
   "source": [
    "orders_df.createOrReplaceTempView(\"orders\")\n",
    "df_orders=spark.sql(\"select * from orders\")\n",
    "df_orders.drop()\n",
    "df_orders.show(10,False)"
   ]
  },
  {
   "cell_type": "markdown",
   "metadata": {},
   "source": [
    "# Without Hard Coding(defining directories in config files)"
   ]
  },
  {
   "cell_type": "code",
   "execution_count": 13,
   "metadata": {},
   "outputs": [],
   "source": [
    "import configparser"
   ]
  },
  {
   "cell_type": "code",
   "execution_count": 15,
   "metadata": {},
   "outputs": [],
   "source": [
    "config=configparser.ConfigParser()\n",
    "config.read(\"./configs/config.ini\")\n",
    "inputLocation= config.get('paths','inputLocation')"
   ]
  },
  {
   "cell_type": "code",
   "execution_count": 16,
   "metadata": {},
   "outputs": [
    {
     "name": "stdout",
     "output_type": "stream",
     "text": [
      "+---+-----------------------------+-----------------+----------+--------+------------------+----+------------------+-------+\n",
      "|id |created_at                   |discount         |product_id|quantity|subtotal          |tax |total             |user_id|\n",
      "+---+-----------------------------+-----------------+----------+--------+------------------+----+------------------+-------+\n",
      "|1  |2019-02-11T21:40:27.892+05:30|null             |14        |2       |37.648145389078365|2.07|39.718145389078366|1      |\n",
      "|2  |2018-05-15T08:04:04.580+05:30|null             |123       |3       |110.93145648834248|6.1 |117.0376564084763 |1      |\n",
      "|3  |2019-12-06T22:22:48.544+05:30|6.416679208849759|105       |2       |52.723521442619514|2.9 |55.62208681964182 |1      |\n",
      "|4  |2019-08-22T16:30:42.392+05:30|null             |94        |6       |109.21864156655383|6.01|115.2207354961295 |1      |\n",
      "|5  |2018-10-10T03:34:47.309+05:30|null             |132       |5       |127.88197029833711|7.03|134.94192935296473|1      |\n",
      "|6  |2019-11-06T16:38:50.134+05:30|null             |60        |3       |29.80214751859149 |1.64|31.441679133237017|1      |\n",
      "|7  |2018-09-11T11:22:26.521+05:30|null             |55        |5       |95.77128575934437 |5.27|101.06105102213039|1      |\n",
      "|8  |2019-06-17T02:37:41.693+05:30|8.653952930206964|65        |7       |68.22769726470014 |3.75|71.9646003804807  |1      |\n",
      "|9  |2017-05-03T16:00:54.923+05:30|3.594742155259162|184       |3       |77.3982748679465  |4.26|81.6742695904106  |1      |\n",
      "|10 |2020-01-17T01:44:37.233+05:30|null             |6         |2       |97.43621265344382 |5.36|102.77055805103969|1      |\n",
      "+---+-----------------------------+-----------------+----------+--------+------------------+----+------------------+-------+\n",
      "only showing top 10 rows\n",
      "\n"
     ]
    }
   ],
   "source": [
    "orders_df2=spark.read \\\n",
    ".schema(orders_schema) \\\n",
    ".option('delimiter',',') \\\n",
    ".option('header',True) \\\n",
    ".csv(inputLocation)\n",
    "orders_df2.show(10,False)"
   ]
  },
  {
   "cell_type": "markdown",
   "metadata": {},
   "source": [
    "# Without Hard Coding(defining schema in config and function)"
   ]
  },
  {
   "cell_type": "code",
   "execution_count": 54,
   "metadata": {},
   "outputs": [],
   "source": [
    "config.read('./configs/config.ini')\n",
    "schemaFromConf=config.get('schemas','ingestSchema')"
   ]
  },
  {
   "cell_type": "code",
   "execution_count": 70,
   "metadata": {},
   "outputs": [],
   "source": [
    "def read_schema(schema):\n",
    "\td_types={\"String\":StringType(),\"Int\":IntegerType()}\n",
    "\tall_values=list(schema.split(\",\"))\n",
    "\tsch=StructType()\n",
    "\tfor each in all_values:\n",
    "\t\tvalue=list(each.split(\" \"))\n",
    "\t\tsch.add(value[0],d_types.get(value[1]),True)\n",
    "\treturn sch\n",
    "\t\t"
   ]
  },
  {
   "cell_type": "code",
   "execution_count": 71,
   "metadata": {},
   "outputs": [],
   "source": [
    "orders_schema2=read_schema(schemaFromConf)"
   ]
  },
  {
   "cell_type": "code",
   "execution_count": 73,
   "metadata": {},
   "outputs": [
    {
     "name": "stdout",
     "output_type": "stream",
     "text": [
      "+---+-----------------------------+-----------------+----------+--------+------------------+----+------------------+-------+\n",
      "|id |created_at                   |discount         |product_id|quantity|subtotal          |tax |total             |user_id|\n",
      "+---+-----------------------------+-----------------+----------+--------+------------------+----+------------------+-------+\n",
      "|1  |2019-02-11T21:40:27.892+05:30|null             |14        |2       |37.648145389078365|2.07|39.718145389078366|1      |\n",
      "|2  |2018-05-15T08:04:04.580+05:30|null             |123       |3       |110.93145648834248|6.1 |117.0376564084763 |1      |\n",
      "|3  |2019-12-06T22:22:48.544+05:30|6.416679208849759|105       |2       |52.723521442619514|2.9 |55.62208681964182 |1      |\n",
      "|4  |2019-08-22T16:30:42.392+05:30|null             |94        |6       |109.21864156655383|6.01|115.2207354961295 |1      |\n",
      "|5  |2018-10-10T03:34:47.309+05:30|null             |132       |5       |127.88197029833711|7.03|134.94192935296473|1      |\n",
      "|6  |2019-11-06T16:38:50.134+05:30|null             |60        |3       |29.80214751859149 |1.64|31.441679133237017|1      |\n",
      "|7  |2018-09-11T11:22:26.521+05:30|null             |55        |5       |95.77128575934437 |5.27|101.06105102213039|1      |\n",
      "|8  |2019-06-17T02:37:41.693+05:30|8.653952930206964|65        |7       |68.22769726470014 |3.75|71.9646003804807  |1      |\n",
      "|9  |2017-05-03T16:00:54.923+05:30|3.594742155259162|184       |3       |77.3982748679465  |4.26|81.6742695904106  |1      |\n",
      "|10 |2020-01-17T01:44:37.233+05:30|null             |6         |2       |97.43621265344382 |5.36|102.77055805103969|1      |\n",
      "+---+-----------------------------+-----------------+----------+--------+------------------+----+------------------+-------+\n",
      "only showing top 10 rows\n",
      "\n"
     ]
    }
   ],
   "source": [
    "orders_df3=spark.read \\\n",
    ".schema(orders_schema2) \\\n",
    ".option('delimiter',',') \\\n",
    ".option('header',True) \\\n",
    ".csv(inputLocation)\n",
    "orders_df3.show(10,False)"
   ]
  },
  {
   "cell_type": "code",
   "execution_count": null,
   "metadata": {},
   "outputs": [],
   "source": []
  }
 ],
 "metadata": {
  "kernelspec": {
   "display_name": "Python 3",
   "language": "python",
   "name": "python3"
  },
  "language_info": {
   "codemirror_mode": {
    "name": "ipython",
    "version": 3
   },
   "file_extension": ".py",
   "mimetype": "text/x-python",
   "name": "python",
   "nbconvert_exporter": "python",
   "pygments_lexer": "ipython3",
   "version": "3.7.6"
  }
 },
 "nbformat": 4,
 "nbformat_minor": 4
}
